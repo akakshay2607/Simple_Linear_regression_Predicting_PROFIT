{
 "cells": [
  {
   "cell_type": "markdown",
   "id": "02350e62",
   "metadata": {},
   "source": [
    "# Read The Dataset"
   ]
  },
  {
   "cell_type": "code",
   "execution_count": 1,
   "id": "859420f5",
   "metadata": {},
   "outputs": [],
   "source": [
    "import pandas as pd\n",
    "A = pd.read_csv(\"C:/Users/akaks/Downloads/50_Startups.csv\")"
   ]
  },
  {
   "cell_type": "code",
   "execution_count": 2,
   "id": "f5a6a058",
   "metadata": {
    "scrolled": true
   },
   "outputs": [
    {
     "data": {
      "text/html": [
       "<div>\n",
       "<style scoped>\n",
       "    .dataframe tbody tr th:only-of-type {\n",
       "        vertical-align: middle;\n",
       "    }\n",
       "\n",
       "    .dataframe tbody tr th {\n",
       "        vertical-align: top;\n",
       "    }\n",
       "\n",
       "    .dataframe thead th {\n",
       "        text-align: right;\n",
       "    }\n",
       "</style>\n",
       "<table border=\"1\" class=\"dataframe\">\n",
       "  <thead>\n",
       "    <tr style=\"text-align: right;\">\n",
       "      <th></th>\n",
       "      <th>RND</th>\n",
       "      <th>ADMIN</th>\n",
       "      <th>MKT</th>\n",
       "      <th>STATE</th>\n",
       "      <th>PROFIT</th>\n",
       "    </tr>\n",
       "  </thead>\n",
       "  <tbody>\n",
       "    <tr>\n",
       "      <th>0</th>\n",
       "      <td>165349.20</td>\n",
       "      <td>136897.80</td>\n",
       "      <td>471784.10</td>\n",
       "      <td>New York</td>\n",
       "      <td>192261.83</td>\n",
       "    </tr>\n",
       "    <tr>\n",
       "      <th>1</th>\n",
       "      <td>162597.70</td>\n",
       "      <td>151377.59</td>\n",
       "      <td>443898.53</td>\n",
       "      <td>California</td>\n",
       "      <td>191792.06</td>\n",
       "    </tr>\n",
       "    <tr>\n",
       "      <th>2</th>\n",
       "      <td>153441.51</td>\n",
       "      <td>101145.55</td>\n",
       "      <td>407934.54</td>\n",
       "      <td>Florida</td>\n",
       "      <td>191050.39</td>\n",
       "    </tr>\n",
       "    <tr>\n",
       "      <th>3</th>\n",
       "      <td>144372.41</td>\n",
       "      <td>118671.85</td>\n",
       "      <td>383199.62</td>\n",
       "      <td>New York</td>\n",
       "      <td>182901.99</td>\n",
       "    </tr>\n",
       "    <tr>\n",
       "      <th>4</th>\n",
       "      <td>142107.34</td>\n",
       "      <td>91391.77</td>\n",
       "      <td>366168.42</td>\n",
       "      <td>Florida</td>\n",
       "      <td>166187.94</td>\n",
       "    </tr>\n",
       "  </tbody>\n",
       "</table>\n",
       "</div>"
      ],
      "text/plain": [
       "         RND      ADMIN        MKT       STATE     PROFIT\n",
       "0  165349.20  136897.80  471784.10    New York  192261.83\n",
       "1  162597.70  151377.59  443898.53  California  191792.06\n",
       "2  153441.51  101145.55  407934.54     Florida  191050.39\n",
       "3  144372.41  118671.85  383199.62    New York  182901.99\n",
       "4  142107.34   91391.77  366168.42     Florida  166187.94"
      ]
     },
     "execution_count": 2,
     "metadata": {},
     "output_type": "execute_result"
    }
   ],
   "source": [
    "A.head()"
   ]
  },
  {
   "cell_type": "code",
   "execution_count": 3,
   "id": "9804237d",
   "metadata": {},
   "outputs": [
    {
     "name": "stdout",
     "output_type": "stream",
     "text": [
      "<class 'pandas.core.frame.DataFrame'>\n",
      "RangeIndex: 50 entries, 0 to 49\n",
      "Data columns (total 5 columns):\n",
      " #   Column  Non-Null Count  Dtype  \n",
      "---  ------  --------------  -----  \n",
      " 0   RND     50 non-null     float64\n",
      " 1   ADMIN   50 non-null     float64\n",
      " 2   MKT     50 non-null     float64\n",
      " 3   STATE   50 non-null     object \n",
      " 4   PROFIT  50 non-null     float64\n",
      "dtypes: float64(4), object(1)\n",
      "memory usage: 2.1+ KB\n"
     ]
    }
   ],
   "source": [
    "A.info()"
   ]
  },
  {
   "cell_type": "markdown",
   "id": "c555c0b6",
   "metadata": {},
   "source": [
    "# Checking Null Values"
   ]
  },
  {
   "cell_type": "code",
   "execution_count": 4,
   "id": "f150953e",
   "metadata": {},
   "outputs": [
    {
     "data": {
      "text/plain": [
       "RND       0\n",
       "ADMIN     0\n",
       "MKT       0\n",
       "STATE     0\n",
       "PROFIT    0\n",
       "dtype: int64"
      ]
     },
     "execution_count": 4,
     "metadata": {},
     "output_type": "execute_result"
    }
   ],
   "source": [
    "A.isnull().sum()"
   ]
  },
  {
   "cell_type": "code",
   "execution_count": 5,
   "id": "1834e17e",
   "metadata": {},
   "outputs": [],
   "source": [
    "#There are no null values"
   ]
  },
  {
   "cell_type": "markdown",
   "id": "f40deb73",
   "metadata": {},
   "source": [
    "# Exploratory Data Aanlysis"
   ]
  },
  {
   "cell_type": "raw",
   "id": "6f26347c",
   "metadata": {},
   "source": [
    "Here we will do EDA to check which features can be used to predict profit"
   ]
  },
  {
   "cell_type": "code",
   "execution_count": 6,
   "id": "e57ff370",
   "metadata": {},
   "outputs": [
    {
     "data": {
      "text/plain": [
       "RND       0.972900\n",
       "ADMIN     0.200717\n",
       "MKT       0.747766\n",
       "PROFIT    1.000000\n",
       "Name: PROFIT, dtype: float64"
      ]
     },
     "execution_count": 6,
     "metadata": {},
     "output_type": "execute_result"
    }
   ],
   "source": [
    "A.corr()['PROFIT']"
   ]
  },
  {
   "cell_type": "code",
   "execution_count": 7,
   "id": "94bd55bd",
   "metadata": {},
   "outputs": [],
   "source": [
    "#RND and MKT having the good Correlation with PROFIT"
   ]
  },
  {
   "cell_type": "code",
   "execution_count": 8,
   "id": "6f01576b",
   "metadata": {},
   "outputs": [
    {
     "name": "stderr",
     "output_type": "stream",
     "text": [
      "C:\\Users\\akaks\\anaconda3\\lib\\site-packages\\seaborn\\_decorators.py:36: FutureWarning: Pass the following variables as keyword args: x, y. From version 0.12, the only valid positional argument will be `data`, and passing other arguments without an explicit keyword will result in an error or misinterpretation.\n",
      "  warnings.warn(\n"
     ]
    },
    {
     "data": {
      "text/plain": [
       "<AxesSubplot:xlabel='STATE', ylabel='PROFIT'>"
      ]
     },
     "execution_count": 8,
     "metadata": {},
     "output_type": "execute_result"
    },
    {
     "data": {
      "image/png": "[encoded data removed]",
      "text/plain": [
       "<Figure size 432x288 with 1 Axes>"
      ]
     },
     "metadata": {
      "needs_background": "light"
     },
     "output_type": "display_data"
    }
   ],
   "source": [
    "import seaborn as sb\n",
    "sb.boxplot(A['STATE'],A['PROFIT'])"
   ]
  },
  {
   "cell_type": "code",
   "execution_count": 9,
   "id": "80b31ad1",
   "metadata": {},
   "outputs": [],
   "source": [
    "#from boxplot we can clearly see that there is no any solid relation between PROFIT and STATE, so we will ignore STATE."
   ]
  },
  {
   "cell_type": "markdown",
   "id": "7fcfa414",
   "metadata": {},
   "source": [
    "# Defining X and Y"
   ]
  },
  {
   "cell_type": "markdown",
   "id": "a5283019",
   "metadata": {},
   "source": [
    "from above EDA we saw that only RND and MKT have good correlation with PROFIT so we will be using those features as X to predict Profit(Y)"
   ]
  },
  {
   "cell_type": "code",
   "execution_count": 10,
   "id": "5f76d499",
   "metadata": {},
   "outputs": [],
   "source": [
    "X = A[['RND']]\n",
    "Y = A[['PROFIT']]"
   ]
  },
  {
   "cell_type": "markdown",
   "id": "46683d2b",
   "metadata": {},
   "source": [
    "# Checking Skew"
   ]
  },
  {
   "cell_type": "code",
   "execution_count": 11,
   "id": "5f7b7281",
   "metadata": {},
   "outputs": [
    {
     "data": {
      "text/plain": [
       "RND       0.164002\n",
       "ADMIN    -0.489025\n",
       "MKT      -0.046472\n",
       "PROFIT    0.023291\n",
       "dtype: float64"
      ]
     },
     "execution_count": 11,
     "metadata": {},
     "output_type": "execute_result"
    }
   ],
   "source": [
    "A.skew()"
   ]
  },
  {
   "cell_type": "code",
   "execution_count": 12,
   "id": "d5643c79",
   "metadata": {},
   "outputs": [],
   "source": [
    "#As skew may produce bias in model, but the selected features are normally distributed so there will be no problem"
   ]
  },
  {
   "cell_type": "markdown",
   "id": "5bb87e53",
   "metadata": {},
   "source": [
    "# Dividing data into training and testing set"
   ]
  },
  {
   "cell_type": "code",
   "execution_count": 13,
   "id": "43d9180a",
   "metadata": {},
   "outputs": [],
   "source": [
    "from sklearn.model_selection import train_test_split\n",
    "xtrain,xtest,ytrain,ytest = train_test_split(X,Y,test_size=0.2,random_state=21)"
   ]
  },
  {
   "cell_type": "markdown",
   "id": "ba0c0cd2",
   "metadata": {},
   "source": [
    "# Creating Regression Model"
   ]
  },
  {
   "cell_type": "code",
   "execution_count": 14,
   "id": "be56fa67",
   "metadata": {},
   "outputs": [],
   "source": [
    "from sklearn.linear_model import LinearRegression\n",
    "lm = LinearRegression()"
   ]
  },
  {
   "cell_type": "markdown",
   "id": "7e3cf0c4",
   "metadata": {},
   "source": [
    "# Training the Model"
   ]
  },
  {
   "cell_type": "code",
   "execution_count": 15,
   "id": "0b95f0a0",
   "metadata": {},
   "outputs": [],
   "source": [
    "model = lm.fit(xtrain,ytrain)"
   ]
  },
  {
   "cell_type": "code",
   "execution_count": 25,
   "id": "a3c7f044",
   "metadata": {},
   "outputs": [],
   "source": [
    "b1 = round(model.coef_[0][0],2)"
   ]
  },
  {
   "cell_type": "code",
   "execution_count": 29,
   "id": "5a5f300a",
   "metadata": {},
   "outputs": [],
   "source": [
    "b0 = round(model.intercept_[0],2)"
   ]
  },
  {
   "cell_type": "code",
   "execution_count": 30,
   "id": "18144e86",
   "metadata": {},
   "outputs": [
    {
     "name": "stdout",
     "output_type": "stream",
     "text": [
      "Y-intercept:  49320.11 \n",
      "slope:  0.86\n"
     ]
    }
   ],
   "source": [
    "print(\"Y-intercept: \",b0,\"\\nslope: \",b1)"
   ]
  },
  {
   "cell_type": "markdown",
   "id": "119f4c53",
   "metadata": {},
   "source": [
    "# Creating Predictions"
   ]
  },
  {
   "cell_type": "code",
   "execution_count": 33,
   "id": "83aca9d6",
   "metadata": {},
   "outputs": [],
   "source": [
    "pred_ts = model.predict(xtest)"
   ]
  },
  {
   "cell_type": "code",
   "execution_count": 41,
   "id": "a80eff74",
   "metadata": {},
   "outputs": [],
   "source": [
    "pred_tr = model.predict(xtrain)"
   ]
  },
  {
   "cell_type": "code",
   "execution_count": 35,
   "id": "22db64d7",
   "metadata": {},
   "outputs": [
    {
     "name": "stderr",
     "output_type": "stream",
     "text": [
      "<ipython-input-35-b816d9afc605>:1: SettingWithCopyWarning: \n",
      "A value is trying to be set on a copy of a slice from a DataFrame.\n",
      "Try using .loc[row_indexer,col_indexer] = value instead\n",
      "\n",
      "See the caveats in the documentation: https://pandas.pydata.org/pandas-docs/stable/user_guide/indexing.html#returning-a-view-versus-a-copy\n",
      "  ytest['pred_profit'] = pred_ts\n"
     ]
    }
   ],
   "source": [
    "ytest['pred_profit'] = pred_ts"
   ]
  },
  {
   "cell_type": "code",
   "execution_count": 36,
   "id": "9a43cd0d",
   "metadata": {},
   "outputs": [
    {
     "data": {
      "text/html": [
       "<div>\n",
       "<style scoped>\n",
       "    .dataframe tbody tr th:only-of-type {\n",
       "        vertical-align: middle;\n",
       "    }\n",
       "\n",
       "    .dataframe tbody tr th {\n",
       "        vertical-align: top;\n",
       "    }\n",
       "\n",
       "    .dataframe thead th {\n",
       "        text-align: right;\n",
       "    }\n",
       "</style>\n",
       "<table border=\"1\" class=\"dataframe\">\n",
       "  <thead>\n",
       "    <tr style=\"text-align: right;\">\n",
       "      <th></th>\n",
       "      <th>PROFIT</th>\n",
       "      <th>pred_profit</th>\n",
       "    </tr>\n",
       "  </thead>\n",
       "  <tbody>\n",
       "    <tr>\n",
       "      <th>7</th>\n",
       "      <td>155752.60</td>\n",
       "      <td>160897.399592</td>\n",
       "    </tr>\n",
       "    <tr>\n",
       "      <th>44</th>\n",
       "      <td>65200.33</td>\n",
       "      <td>68311.422541</td>\n",
       "    </tr>\n",
       "    <tr>\n",
       "      <th>43</th>\n",
       "      <td>69758.98</td>\n",
       "      <td>62598.026901</td>\n",
       "    </tr>\n",
       "    <tr>\n",
       "      <th>25</th>\n",
       "      <td>107404.34</td>\n",
       "      <td>104693.992280</td>\n",
       "    </tr>\n",
       "    <tr>\n",
       "      <th>14</th>\n",
       "      <td>132602.65</td>\n",
       "      <td>152030.269092</td>\n",
       "    </tr>\n",
       "    <tr>\n",
       "      <th>2</th>\n",
       "      <td>191050.39</td>\n",
       "      <td>180715.608254</td>\n",
       "    </tr>\n",
       "    <tr>\n",
       "      <th>23</th>\n",
       "      <td>108733.99</td>\n",
       "      <td>107149.772514</td>\n",
       "    </tr>\n",
       "    <tr>\n",
       "      <th>31</th>\n",
       "      <td>97483.56</td>\n",
       "      <td>101672.602139</td>\n",
       "    </tr>\n",
       "    <tr>\n",
       "      <th>17</th>\n",
       "      <td>125370.37</td>\n",
       "      <td>130377.217132</td>\n",
       "    </tr>\n",
       "    <tr>\n",
       "      <th>47</th>\n",
       "      <td>42559.73</td>\n",
       "      <td>49320.113624</td>\n",
       "    </tr>\n",
       "  </tbody>\n",
       "</table>\n",
       "</div>"
      ],
      "text/plain": [
       "       PROFIT    pred_profit\n",
       "7   155752.60  160897.399592\n",
       "44   65200.33   68311.422541\n",
       "43   69758.98   62598.026901\n",
       "25  107404.34  104693.992280\n",
       "14  132602.65  152030.269092\n",
       "2   191050.39  180715.608254\n",
       "23  108733.99  107149.772514\n",
       "31   97483.56  101672.602139\n",
       "17  125370.37  130377.217132\n",
       "47   42559.73   49320.113624"
      ]
     },
     "execution_count": 36,
     "metadata": {},
     "output_type": "execute_result"
    }
   ],
   "source": [
    "ytest"
   ]
  },
  {
   "cell_type": "code",
   "execution_count": 43,
   "id": "fe5dc8ec",
   "metadata": {
    "scrolled": true
   },
   "outputs": [
    {
     "name": "stderr",
     "output_type": "stream",
     "text": [
      "<ipython-input-43-a02c6e305f32>:1: SettingWithCopyWarning: \n",
      "A value is trying to be set on a copy of a slice from a DataFrame.\n",
      "Try using .loc[row_indexer,col_indexer] = value instead\n",
      "\n",
      "See the caveats in the documentation: https://pandas.pydata.org/pandas-docs/stable/user_guide/indexing.html#returning-a-view-versus-a-copy\n",
      "  ytrain[\"pred_profit\"] = pred_tr\n"
     ]
    }
   ],
   "source": [
    "ytrain[\"pred_profit\"] = pred_tr"
   ]
  },
  {
   "cell_type": "code",
   "execution_count": 45,
   "id": "506ea878",
   "metadata": {},
   "outputs": [],
   "source": [
    "#ytrain"
   ]
  },
  {
   "cell_type": "code",
   "execution_count": 49,
   "id": "8daaee21",
   "metadata": {},
   "outputs": [
    {
     "name": "stdout",
     "output_type": "stream",
     "text": [
      "=========>>>>>TRAINING ERROR<<<<<<=======\n",
      "7045.56695142361 \n",
      "\n",
      "=========>>>>>TESTING ERROR<<<<<<========\n",
      "6543.008416944333\n"
     ]
    }
   ],
   "source": [
    "from sklearn.metrics import mean_absolute_error\n",
    "ts_err = mean_absolute_error(ytest['PROFIT'],ytest['pred_profit'])\n",
    "tr_err = mean_absolute_error(ytrain['PROFIT'],ytrain['pred_profit'])\n",
    "print(\"=========>>>>>TRAINING ERROR<<<<<<=======\")\n",
    "print(tr_err,'\\n')\n",
    "print(\"=========>>>>>TESTING ERROR<<<<<<========\")\n",
    "print(ts_err)"
   ]
  },
  {
   "cell_type": "markdown",
   "id": "389486b8",
   "metadata": {},
   "source": [
    "# Plotting regression results"
   ]
  },
  {
   "cell_type": "code",
   "execution_count": 58,
   "id": "5ce6f88f",
   "metadata": {},
   "outputs": [
    {
     "data": {
      "text/plain": [
       "Text(0.5, 1.0, 'Regression line for RND vs PROFIT')"
      ]
     },
     "execution_count": 58,
     "metadata": {},
     "output_type": "execute_result"
    },
    {
     "data": {
      "image/png": "[encoded data removed]",
      "text/plain": [
       "<Figure size 432x288 with 1 Axes>"
      ]
     },
     "metadata": {
      "needs_background": "light"
     },
     "output_type": "display_data"
    }
   ],
   "source": [
    "import matplotlib.pyplot as plt\n",
    "plt.scatter(X,Y,c='red')\n",
    "plt.plot(X,b0+b1*X,c='blue')\n",
    "plt.xlabel(\"RND\")\n",
    "plt.ylabel(\"PROFIT\")\n",
    "plt.title(\"Regression line for RND vs PROFIT\")"
   ]
  },
  {
   "cell_type": "markdown",
   "id": "0e8bcd8a",
   "metadata": {},
   "source": [
    "# Multiple Linear Regression"
   ]
  },
  {
   "cell_type": "code",
   "execution_count": 60,
   "id": "c2d9ab16",
   "metadata": {},
   "outputs": [],
   "source": [
    "X = A[['RND','MKT']]\n",
    "Y = A[['PROFIT']]"
   ]
  },
  {
   "cell_type": "code",
   "execution_count": 61,
   "id": "ab96f9a4",
   "metadata": {},
   "outputs": [],
   "source": [
    "from sklearn.model_selection import train_test_split\n",
    "xtrain,xtest,ytrain,ytest = train_test_split(X,Y,test_size=0.2,random_state=21)"
   ]
  },
  {
   "cell_type": "code",
   "execution_count": 62,
   "id": "d8ce5c02",
   "metadata": {},
   "outputs": [],
   "source": [
    "from sklearn.linear_model import LinearRegression\n",
    "lm = LinearRegression()"
   ]
  },
  {
   "cell_type": "code",
   "execution_count": 63,
   "id": "e51d0142",
   "metadata": {},
   "outputs": [],
   "source": [
    "model = lm.fit(xtrain,ytrain)"
   ]
  },
  {
   "cell_type": "code",
   "execution_count": 65,
   "id": "eaa00a1f",
   "metadata": {},
   "outputs": [
    {
     "name": "stderr",
     "output_type": "stream",
     "text": [
      "<ipython-input-65-5a0c5cb2b7f7>:2: SettingWithCopyWarning: \n",
      "A value is trying to be set on a copy of a slice from a DataFrame.\n",
      "Try using .loc[row_indexer,col_indexer] = value instead\n",
      "\n",
      "See the caveats in the documentation: https://pandas.pydata.org/pandas-docs/stable/user_guide/indexing.html#returning-a-view-versus-a-copy\n",
      "  ytest['pred_profit'] = pred_ts\n"
     ]
    }
   ],
   "source": [
    "pred_ts = model.predict(xtest)\n",
    "ytest['pred_profit'] = pred_ts"
   ]
  },
  {
   "cell_type": "code",
   "execution_count": 66,
   "id": "8e18ef1b",
   "metadata": {},
   "outputs": [
    {
     "name": "stderr",
     "output_type": "stream",
     "text": [
      "<ipython-input-66-a654869154e0>:2: SettingWithCopyWarning: \n",
      "A value is trying to be set on a copy of a slice from a DataFrame.\n",
      "Try using .loc[row_indexer,col_indexer] = value instead\n",
      "\n",
      "See the caveats in the documentation: https://pandas.pydata.org/pandas-docs/stable/user_guide/indexing.html#returning-a-view-versus-a-copy\n",
      "  ytrain[\"pred_profit\"] = pred_tr\n"
     ]
    }
   ],
   "source": [
    "pred_tr = model.predict(xtrain)\n",
    "ytrain[\"pred_profit\"] = pred_tr"
   ]
  },
  {
   "cell_type": "code",
   "execution_count": 67,
   "id": "5f10447a",
   "metadata": {},
   "outputs": [
    {
     "name": "stdout",
     "output_type": "stream",
     "text": [
      "=========>>>>>TRAINING ERROR<<<<<<=======\n",
      "6734.696630502678 \n",
      "\n",
      "=========>>>>>TESTING ERROR<<<<<<========\n",
      "5916.047378112382\n"
     ]
    }
   ],
   "source": [
    "from sklearn.metrics import mean_absolute_error\n",
    "ts_err = mean_absolute_error(ytest['PROFIT'],ytest['pred_profit'])\n",
    "tr_err = mean_absolute_error(ytrain['PROFIT'],ytrain['pred_profit'])\n",
    "print(\"=========>>>>>TRAINING ERROR<<<<<<=======\")\n",
    "print(tr_err,'\\n')\n",
    "print(\"=========>>>>>TESTING ERROR<<<<<<========\")\n",
    "print(ts_err)"
   ]
  },
  {
   "cell_type": "code",
   "execution_count": null,
   "id": "b529c545",
   "metadata": {},
   "outputs": [],
   "source": []
  }
 ],
 "metadata": {
  "kernelspec": {
   "display_name": "Python 3",
   "language": "python",
   "name": "python3"
  },
  "language_info": {
   "codemirror_mode": {
    "name": "ipython",
    "version": 3
   },
   "file_extension": ".py",
   "mimetype": "text/x-python",
   "name": "python",
   "nbconvert_exporter": "python",
   "pygments_lexer": "ipython3",
   "version": "3.8.8"
  }
 },
 "nbformat": 4,
 "nbformat_minor": 5
}
